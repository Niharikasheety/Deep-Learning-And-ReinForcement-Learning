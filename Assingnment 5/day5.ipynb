{
 "cells": [
  {
   "cell_type": "code",
   "execution_count": 3,
   "id": "3a958b46-1af1-4ed3-95c7-f295f32fc6c9",
   "metadata": {},
   "outputs": [],
   "source": [
    "import numpy as np\n",
    "import matplotlib.pyplot as plt\n",
    "import tensorflow as tf\n",
    "from tensorflow.keras.models import Sequential\n",
    "from tensorflow.keras.layers import Dense, Flatten, Dropout\n",
    "from tensorflow.keras.regularizers import l2\n",
    "from tensorflow.keras.callbacks import ReduceLROnPlateau, EarlyStopping\n",
    "from tensorflow.keras.datasets import mnist"
   ]
  },
  {
   "cell_type": "code",
   "execution_count": 4,
   "id": "711683ce-43b8-4a35-a9c0-36684e5c4579",
   "metadata": {},
   "outputs": [],
   "source": [
    "np.random.seed(42)\n",
    "tf.random.set_seed(42)\n",
    "\n",
    "(x_train, y_train), (x_test, y_test) = mnist.load_data()\n",
    "x_train, x_test = x_train.astype(\"float32\")/255.0, x_test.astype(\"float32\")/255.0\n",
    "y_train = tf.keras.utils.to_categorical(y_train, 10)\n",
    "y_test  = tf.keras.utils.to_categorical(y_test,  10)\n"
   ]
  },
  {
   "cell_type": "code",
   "execution_count": 5,
   "id": "59e10236-43c3-4472-9215-63103fc89cfa",
   "metadata": {},
   "outputs": [
    {
     "name": "stderr",
     "output_type": "stream",
     "text": [
      "C:\\Users\\User\\AppData\\Roaming\\Python\\Python312\\site-packages\\keras\\src\\layers\\reshaping\\flatten.py:37: UserWarning: Do not pass an `input_shape`/`input_dim` argument to a layer. When using Sequential models, prefer using an `Input(shape)` object as the first layer in the model instead.\n",
      "  super().__init__(**kwargs)\n"
     ]
    }
   ],
   "source": [
    "model1 = Sequential([\n",
    "    Flatten(input_shape=(28, 28)),\n",
    "    Dense(128, activation='relu'),\n",
    "    Dense(64,  activation='relu'),\n",
    "    Dense(10,  activation='softmax')\n",
    "])\n",
    "\n",
    "model1.compile(optimizer='adam',\n",
    "               loss='categorical_crossentropy',\n",
    "               metrics=['accuracy'])"
   ]
  },
  {
   "cell_type": "code",
   "execution_count": 8,
   "id": "30cb908d-6161-4d11-b0ed-88885c1509a2",
   "metadata": {},
   "outputs": [],
   "source": [
    "weight_decay = 1e-4  \n",
    "\n",
    "model3 = Sequential([\n",
    "    Flatten(input_shape=(28, 28)),\n",
    "    Dense(512, activation='relu', kernel_regularizer=l2(weight_decay)),\n",
    "    Dropout(0.3),\n",
    "    Dense(256, activation='relu', kernel_regularizer=l2(weight_decay)),\n",
    "    Dropout(0.3),\n",
    "    Dense(128, activation='relu', kernel_regularizer=l2(weight_decay)),\n",
    "    Dense(10,  activation='softmax')\n",
    "])"
   ]
  },
  {
   "cell_type": "code",
   "execution_count": 9,
   "id": "a3a9388b-da99-4e08-a06e-fe86182b292f",
   "metadata": {},
   "outputs": [],
   "source": [
    "model3.compile(optimizer=tf.keras.optimizers.Adam(learning_rate=1e-3),\n",
    "               loss='categorical_crossentropy',\n",
    "               metrics=['accuracy'])"
   ]
  },
  {
   "cell_type": "code",
   "execution_count": 10,
   "id": "ab7e3b68-763c-4185-b1a5-e2383ba9e815",
   "metadata": {},
   "outputs": [],
   "source": [
    "lr_scheduler = ReduceLROnPlateau(monitor='val_accuracy',\n",
    "                                 factor=0.3, patience=2,\n",
    "                                 min_lr=1e-5, verbose=1)\n",
    "\n",
    "early_stop   = EarlyStopping(monitor='val_accuracy',\n",
    "                             patience=5, restore_best_weights=True, verbose=1)"
   ]
  },
  {
   "cell_type": "code",
   "execution_count": 11,
   "id": "41e30132-2a98-4a7b-8cad-d4a292061d4b",
   "metadata": {},
   "outputs": [
    {
     "name": "stdout",
     "output_type": "stream",
     "text": [
      "Epoch 1/10\n",
      "844/844 - 7s - 8ms/step - accuracy: 0.9147 - loss: 0.2943 - val_accuracy: 0.9635 - val_loss: 0.1273\n",
      "Epoch 2/10\n",
      "844/844 - 4s - 5ms/step - accuracy: 0.9627 - loss: 0.1247 - val_accuracy: 0.9708 - val_loss: 0.0978\n",
      "Epoch 3/10\n",
      "844/844 - 4s - 5ms/step - accuracy: 0.9751 - loss: 0.0843 - val_accuracy: 0.9723 - val_loss: 0.0959\n",
      "Epoch 4/10\n",
      "844/844 - 4s - 5ms/step - accuracy: 0.9816 - loss: 0.0614 - val_accuracy: 0.9715 - val_loss: 0.1055\n",
      "Epoch 5/10\n",
      "844/844 - 4s - 5ms/step - accuracy: 0.9869 - loss: 0.0454 - val_accuracy: 0.9717 - val_loss: 0.1081\n",
      "Epoch 6/10\n",
      "844/844 - 4s - 5ms/step - accuracy: 0.9904 - loss: 0.0343 - val_accuracy: 0.9728 - val_loss: 0.1072\n",
      "Epoch 7/10\n",
      "844/844 - 4s - 5ms/step - accuracy: 0.9918 - loss: 0.0277 - val_accuracy: 0.9742 - val_loss: 0.1139\n",
      "Epoch 8/10\n",
      "844/844 - 4s - 5ms/step - accuracy: 0.9931 - loss: 0.0224 - val_accuracy: 0.9743 - val_loss: 0.1087\n",
      "Epoch 9/10\n",
      "844/844 - 4s - 5ms/step - accuracy: 0.9936 - loss: 0.0194 - val_accuracy: 0.9733 - val_loss: 0.1115\n",
      "Epoch 10/10\n",
      "844/844 - 4s - 5ms/step - accuracy: 0.9927 - loss: 0.0214 - val_accuracy: 0.9760 - val_loss: 0.1141\n"
     ]
    }
   ],
   "source": [
    "hist1 = model1.fit(x_train, y_train,\n",
    "                   epochs=10, batch_size=64,\n",
    "                   validation_split=0.1, verbose=2)"
   ]
  },
  {
   "cell_type": "code",
   "execution_count": 12,
   "id": "08f6a5d9-46c0-4309-b8fc-8436ddcf38dd",
   "metadata": {},
   "outputs": [
    {
     "name": "stdout",
     "output_type": "stream",
     "text": [
      "Epoch 1/30\n",
      "422/422 - 14s - 34ms/step - accuracy: 0.9007 - loss: 0.4198 - val_accuracy: 0.9638 - val_loss: 0.2026 - learning_rate: 1.0000e-03\n",
      "Epoch 2/30\n",
      "422/422 - 8s - 18ms/step - accuracy: 0.9573 - loss: 0.2328 - val_accuracy: 0.9723 - val_loss: 0.1781 - learning_rate: 1.0000e-03\n",
      "Epoch 3/30\n",
      "422/422 - 9s - 20ms/step - accuracy: 0.9671 - loss: 0.1980 - val_accuracy: 0.9792 - val_loss: 0.1635 - learning_rate: 1.0000e-03\n",
      "Epoch 4/30\n",
      "422/422 - 8s - 19ms/step - accuracy: 0.9716 - loss: 0.1807 - val_accuracy: 0.9770 - val_loss: 0.1606 - learning_rate: 1.0000e-03\n",
      "Epoch 5/30\n",
      "422/422 - 8s - 19ms/step - accuracy: 0.9751 - loss: 0.1679 - val_accuracy: 0.9803 - val_loss: 0.1572 - learning_rate: 1.0000e-03\n",
      "Epoch 6/30\n",
      "422/422 - 8s - 18ms/step - accuracy: 0.9780 - loss: 0.1583 - val_accuracy: 0.9808 - val_loss: 0.1525 - learning_rate: 1.0000e-03\n",
      "Epoch 7/30\n",
      "422/422 - 7s - 17ms/step - accuracy: 0.9786 - loss: 0.1515 - val_accuracy: 0.9777 - val_loss: 0.1593 - learning_rate: 1.0000e-03\n",
      "Epoch 8/30\n",
      "422/422 - 7s - 17ms/step - accuracy: 0.9813 - loss: 0.1467 - val_accuracy: 0.9827 - val_loss: 0.1427 - learning_rate: 1.0000e-03\n",
      "Epoch 9/30\n",
      "422/422 - 7s - 17ms/step - accuracy: 0.9809 - loss: 0.1437 - val_accuracy: 0.9783 - val_loss: 0.1592 - learning_rate: 1.0000e-03\n",
      "Epoch 10/30\n",
      "\n",
      "Epoch 10: ReduceLROnPlateau reducing learning rate to 0.0003000000142492354.\n",
      "422/422 - 7s - 17ms/step - accuracy: 0.9817 - loss: 0.1406 - val_accuracy: 0.9818 - val_loss: 0.1509 - learning_rate: 1.0000e-03\n",
      "Epoch 11/30\n",
      "422/422 - 8s - 19ms/step - accuracy: 0.9900 - loss: 0.1149 - val_accuracy: 0.9858 - val_loss: 0.1340 - learning_rate: 3.0000e-04\n",
      "Epoch 12/30\n",
      "422/422 - 7s - 17ms/step - accuracy: 0.9918 - loss: 0.1032 - val_accuracy: 0.9867 - val_loss: 0.1295 - learning_rate: 3.0000e-04\n",
      "Epoch 13/30\n",
      "422/422 - 7s - 16ms/step - accuracy: 0.9926 - loss: 0.0981 - val_accuracy: 0.9855 - val_loss: 0.1292 - learning_rate: 3.0000e-04\n",
      "Epoch 14/30\n",
      "\n",
      "Epoch 14: ReduceLROnPlateau reducing learning rate to 9.000000427477062e-05.\n",
      "422/422 - 8s - 18ms/step - accuracy: 0.9929 - loss: 0.0931 - val_accuracy: 0.9852 - val_loss: 0.1238 - learning_rate: 3.0000e-04\n",
      "Epoch 15/30\n",
      "422/422 - 8s - 18ms/step - accuracy: 0.9954 - loss: 0.0843 - val_accuracy: 0.9865 - val_loss: 0.1208 - learning_rate: 9.0000e-05\n",
      "Epoch 16/30\n",
      "422/422 - 8s - 19ms/step - accuracy: 0.9951 - loss: 0.0819 - val_accuracy: 0.9868 - val_loss: 0.1198 - learning_rate: 9.0000e-05\n",
      "Epoch 17/30\n",
      "422/422 - 7s - 17ms/step - accuracy: 0.9956 - loss: 0.0797 - val_accuracy: 0.9870 - val_loss: 0.1164 - learning_rate: 9.0000e-05\n",
      "Epoch 18/30\n",
      "422/422 - 7s - 18ms/step - accuracy: 0.9960 - loss: 0.0778 - val_accuracy: 0.9868 - val_loss: 0.1149 - learning_rate: 9.0000e-05\n",
      "Epoch 19/30\n",
      "\n",
      "Epoch 19: ReduceLROnPlateau reducing learning rate to 2.700000040931627e-05.\n",
      "422/422 - 7s - 17ms/step - accuracy: 0.9959 - loss: 0.0760 - val_accuracy: 0.9867 - val_loss: 0.1159 - learning_rate: 9.0000e-05\n",
      "Epoch 20/30\n",
      "422/422 - 9s - 21ms/step - accuracy: 0.9968 - loss: 0.0738 - val_accuracy: 0.9873 - val_loss: 0.1129 - learning_rate: 2.7000e-05\n",
      "Epoch 21/30\n",
      "422/422 - 8s - 19ms/step - accuracy: 0.9966 - loss: 0.0730 - val_accuracy: 0.9875 - val_loss: 0.1126 - learning_rate: 2.7000e-05\n",
      "Epoch 22/30\n",
      "422/422 - 8s - 18ms/step - accuracy: 0.9963 - loss: 0.0731 - val_accuracy: 0.9873 - val_loss: 0.1124 - learning_rate: 2.7000e-05\n",
      "Epoch 23/30\n",
      "422/422 - 7s - 17ms/step - accuracy: 0.9968 - loss: 0.0718 - val_accuracy: 0.9878 - val_loss: 0.1113 - learning_rate: 2.7000e-05\n",
      "Epoch 24/30\n",
      "422/422 - 7s - 17ms/step - accuracy: 0.9969 - loss: 0.0707 - val_accuracy: 0.9878 - val_loss: 0.1114 - learning_rate: 2.7000e-05\n",
      "Epoch 25/30\n",
      "\n",
      "Epoch 25: ReduceLROnPlateau reducing learning rate to 1e-05.\n",
      "422/422 - 8s - 18ms/step - accuracy: 0.9968 - loss: 0.0703 - val_accuracy: 0.9870 - val_loss: 0.1101 - learning_rate: 2.7000e-05\n",
      "Epoch 26/30\n",
      "422/422 - 7s - 17ms/step - accuracy: 0.9971 - loss: 0.0697 - val_accuracy: 0.9872 - val_loss: 0.1099 - learning_rate: 1.0000e-05\n",
      "Epoch 27/30\n",
      "422/422 - 7s - 17ms/step - accuracy: 0.9970 - loss: 0.0695 - val_accuracy: 0.9875 - val_loss: 0.1095 - learning_rate: 1.0000e-05\n",
      "Epoch 28/30\n",
      "422/422 - 8s - 19ms/step - accuracy: 0.9972 - loss: 0.0688 - val_accuracy: 0.9872 - val_loss: 0.1094 - learning_rate: 1.0000e-05\n",
      "Epoch 28: early stopping\n",
      "Restoring model weights from the end of the best epoch: 23.\n"
     ]
    }
   ],
   "source": [
    "hist3 = model3.fit(x_train, y_train,\n",
    "                   epochs=30, batch_size=128,\n",
    "                   validation_split=0.1, verbose=2,\n",
    "                   callbacks=[lr_scheduler, early_stop])\n"
   ]
  },
  {
   "cell_type": "code",
   "execution_count": 13,
   "id": "807c2a65-f701-4bdd-92e4-3d5ea3d95fa9",
   "metadata": {},
   "outputs": [
    {
     "name": "stdout",
     "output_type": "stream",
     "text": [
      "\n",
      "Test‑set performance\n",
      "Baseline                    |  loss: 0.0966   acc: 97.42%\n",
      "Regularised + LR sched      |  loss: 0.1078   acc: 98.60%\n"
     ]
    }
   ],
   "source": [
    "print(\"\\nTest‑set performance\")\n",
    "for name, model in [(\"Baseline\", model1), (\"Regularised + LR sched\", model3)]:\n",
    "    loss, acc = model.evaluate(x_test, y_test, verbose=0)\n",
    "    print(f\"{name:26s}  |  loss: {loss:6.4f}   acc: {acc*100:5.2f}%\")"
   ]
  },
  {
   "cell_type": "code",
   "execution_count": 14,
   "id": "c4324bbf-7c37-4d97-b225-81793331b96f",
   "metadata": {},
   "outputs": [
    {
     "data": {
      "image/png": "[encoded data removed]",
      "text/plain": [
       "<Figure size 1200x400 with 2 Axes>"
      ]
     },
     "metadata": {},
     "output_type": "display_data"
    }
   ],
   "source": [
    "def plot_history(h, title):\n",
    "    plt.plot(h.history['loss'], label='train')\n",
    "    plt.plot(h.history['val_loss'], label='val')\n",
    "    plt.title(title); plt.xlabel('epoch'); plt.ylabel('loss'); plt.legend()\n",
    "\n",
    "plt.figure(figsize=(12,4))\n",
    "plt.subplot(1,2,1); plot_history(hist1, 'Baseline: loss')\n",
    "plt.subplot(1,2,2); plot_history(hist3, 'Regularised: loss')\n",
    "plt.tight_layout(); plt.show()"
   ]
  },
  {
   "cell_type": "markdown",
   "id": "d6a2b478-0f10-4383-ae04-54117bdaeae7",
   "metadata": {},
   "source": [
    "## **Model 1**:\n",
    "_**Regularization**_: Uses only L2 regularization.\n",
    "\n",
    "_**Training Loss**_: Very low by epoch 10 (0.0214), indicating strong fit to the training data.\n",
    "\n",
    "_**Validation Loss**_: Initially improves but starts to increase after a few epochs, ending at 0.1141, which is a sign of overfitting.\n",
    "\n",
    "_**Accuracy**_:\n",
    "\n",
    "Final training accuracy: 99.27%\n",
    "\n",
    "Final validation accuracy: 97.60%\n",
    "\n",
    "Test accuracy: Around 97.93%"
   ]
  },
  {
   "cell_type": "markdown",
   "id": "681aba1b-b7fc-44f0-8c2f-b05e7552b34a",
   "metadata": {},
   "source": [
    "## **Model 2**:\n",
    "_**Regularization Techniques**_: Uses a combination of:\n",
    "\n",
    "1. Dropout\n",
    "\n",
    "1. L1/L2 Regularization\n",
    "\n",
    "1. Batch Normalization\n",
    "\n",
    "1. Learning Rate Scheduler\n",
    "\n",
    "_**Training Loss**_: Higher than Model 1 (e.g., 0.1467 at epoch 8), due to stronger regularization.\n",
    "\n",
    "_**Validation Loss**_: More stable and lower overall compared to Model 1, ending around 0.1427 by epoch 8.\n",
    "\n",
    "_**Accuracy**_:\n",
    "\n",
    "Final training accuracy: 98.13%\n",
    "\n",
    "Final validation accuracy: 98.27%\n",
    "\n",
    "Test accuracy: Around 98.20%"
   ]
  }
 ],
 "metadata": {
  "kernelspec": {
   "display_name": "Python 3 (ipykernel)",
   "language": "python",
   "name": "python3"
  },
  "language_info": {
   "codemirror_mode": {
    "name": "ipython",
    "version": 3
   },
   "file_extension": ".py",
   "mimetype": "text/x-python",
   "name": "python",
   "nbconvert_exporter": "python",
   "pygments_lexer": "ipython3",
   "version": "3.12.5"
  }
 },
 "nbformat": 4,
 "nbformat_minor": 5
}
